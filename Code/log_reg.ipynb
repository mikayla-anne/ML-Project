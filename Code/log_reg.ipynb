{
 "cells": [
  {
   "cell_type": "code",
   "execution_count": 15,
   "metadata": {},
   "outputs": [],
   "source": [
    "import numpy as np\n",
    "import scipy as sp\n",
    "import sklearn.metrics\n",
    "from sklearn.metrics import confusion_matrix\n",
    "import math\n",
    "import pylab as pl"
   ]
  },
  {
   "cell_type": "code",
   "execution_count": 16,
   "metadata": {},
   "outputs": [],
   "source": [
    "data_file = open(\"../Dataset/data_banknote_authentication.txt\", 'r')\n",
    "data_string = data_file.read()\n",
    "data_strings = np.array(data_string.split('\\n'))\n",
    "x_data = []\n",
    "y_data = []\n",
    "data = []"
   ]
  },
  {
   "cell_type": "code",
   "execution_count": 17,
   "metadata": {},
   "outputs": [
    {
     "name": "stdout",
     "output_type": "stream",
     "text": [
      "['3.6216,8.6661,-2.8073,-0.44699,0' '4.5459,8.1674,-2.4586,-1.4621,0'\n",
      " '3.866,-2.6383,1.9242,0.10645,0' ... '-3.7503,-13.4586,17.5932,-2.7771,1'\n",
      " '-3.5637,-8.3827,12.393,-1.2823,1' '-2.5419,-0.65804,2.6842,1.1952,1']\n",
      "[['1.8799' '2.4707' '2.4931' '0.37671' '0']\n",
      " ['-4.0025' '-13.4979' '17.6772' '-3.3202' '1']\n",
      " ['0.4339' '5.5395' '2.033' '-0.40432' '0']\n",
      " ...\n",
      " ['3.1896' '5.7526' '-0.18537' '-0.30087' '0']\n",
      " ['-5.525' '6.3258' '0.89768' '-6.6241' '1']\n",
      " ['4.4069' '10.9072' '-4.5775' '-4.4271' '0']]\n"
     ]
    }
   ],
   "source": [
    "print(data_strings)\n",
    "data_strings[0].split(',')\n",
    "for i in range(data_strings.shape[0]):\n",
    "    a = data_strings[i].split(',')\n",
    "    x_data.append(a[0:4])\n",
    "    y_data.append(a[4])\n",
    "    data.append(data_strings[i].split(','))\n",
    "    \n",
    "x_data = np.array(x_data)   \n",
    "y_data = np.array(y_data)\n",
    "data = np.array(data)\n",
    "np.random.shuffle(data)\n",
    "print(data)"
   ]
  },
  {
   "cell_type": "code",
   "execution_count": 18,
   "metadata": {},
   "outputs": [],
   "source": [
    "def con(a):\n",
    "    b = []\n",
    "    for i in range(len(a)):\n",
    "        b.append(float(a[i]))\n",
    "    return b\n"
   ]
  },
  {
   "cell_type": "code",
   "execution_count": 19,
   "metadata": {},
   "outputs": [],
   "source": [
    "def sigmoid(x):\n",
    "    return 1/(1+math.exp(-x))"
   ]
  },
  {
   "cell_type": "code",
   "execution_count": 20,
   "metadata": {},
   "outputs": [],
   "source": [
    "def f(x, θ): # Regression function\n",
    "    a = np.dot(x, θ)\n",
    "    return sigmoid(a) # linear regression using the dot product"
   ]
  },
  {
   "cell_type": "code",
   "execution_count": 21,
   "metadata": {},
   "outputs": [],
   "source": [
    "train_data = data[0:824] #training data, contains 60 percent of the data\n",
    "validation_data = data[824:1098] #validation data, contains 20 percent of the data\n",
    "test_data = data[1098:1373] #testing data, contains the remaining 20 percent of the code\n"
   ]
  },
  {
   "cell_type": "code",
   "execution_count": 22,
   "metadata": {},
   "outputs": [
    {
     "name": "stdout",
     "output_type": "stream",
     "text": [
      "Model Parameters:  [ 9.04588544 -9.13549043 -4.79845416 -6.08942511 -0.47902319]\n"
     ]
    }
   ],
   "source": [
    "α = 1e-2 # dlearning rate\n",
    "θ = np.ones(5) # initialize our parameters\n",
    "θ_old = np.zeros(5) # initialize the old parameter values (it's different from the parameter values so we can enter the while loop below)\n",
    "while np.sqrt(np.sum(np.power(θ - θ_old, 2))) > 0.001: # while euclidean norm > 0.001 (so ϵ = 0.001) \n",
    "    θ_old = θ # set old parameter values to parameter values before they are updated\n",
    "    for i in range(train_data.shape[0]): # loop over each row of the design matrix (each data point)\n",
    "        a = train_data[i]\n",
    "        a = list(a[0:4])\n",
    "        a.insert(0,1)\n",
    "        a = np.array(a)\n",
    "        a = con(a)\n",
    "        θ = θ + α*(  (float(train_data[i][4])-(f(a, θ) )) * np.array(a)) # update the parameters using the update rule\n",
    "        #print(θ)\n",
    "                   \n",
    "\n",
    "print(\"Model Parameters: \", θ) # Print model parameters after convergence"
   ]
  },
  {
   "cell_type": "code",
   "execution_count": 23,
   "metadata": {},
   "outputs": [
    {
     "name": "stdout",
     "output_type": "stream",
     "text": [
      "Model Parameters:  [ 9.04588544 -9.13549043 -4.79845416 -6.08942511 -0.47902319]\n"
     ]
    }
   ],
   "source": [
    "\n",
    "while np.sqrt(np.sum(np.power(θ - θ_old, 2))) > 0.001: # while euclidean norm > 0.1 (so ϵ = 0.001) \n",
    "    θ_old = θ # set old parameter values to parameter values before they are updated\n",
    "    for i in range(validation_data.shape[0]): # loop over each row of the design matrix (each data point)\n",
    "        a = validation_data[i]\n",
    "        a = list(a[0:4])\n",
    "        a.insert(0,1)\n",
    "        a = np.array(a)\n",
    "        a = con(a)\n",
    "        θ = θ + α*(  (float(validation_data[i][4])-(f(a, θ) )) * np.array(a)) # update the parameters using the update rule\n",
    "        #print(θ)\n",
    "                   \n",
    "\n",
    "print(\"Model Parameters: \", θ) # Print model parameters after convergence"
   ]
  },
  {
   "cell_type": "code",
   "execution_count": 24,
   "metadata": {},
   "outputs": [],
   "source": [
    "def check(p):\n",
    "    if p>=0.5:\n",
    "        return 1\n",
    "    else:\n",
    "        return 0"
   ]
  },
  {
   "cell_type": "code",
   "execution_count": 25,
   "metadata": {},
   "outputs": [
    {
     "name": "stdout",
     "output_type": "stream",
     "text": [
      "Percentage of testing data we got right  97.08029197080292\n",
      "Percentage of testing data we got wrong  2.9197080291970803\n"
     ]
    }
   ],
   "source": [
    "right = 0\n",
    "wrong = 0\n",
    "y_test = []\n",
    "y_pred = []\n",
    "for i in range(test_data.shape[0]):\n",
    "    #print(uiii[i][4])\n",
    "    b = list(con(test_data[i][0:4]))\n",
    "    y_test.append(test_data[i][4])\n",
    "    b.insert(0,1)\n",
    "    y_pred.append(check(f(b,θ)))\n",
    "    if check(f(b,θ)) == int(test_data[i][4]):\n",
    "        right = right + 1\n",
    "    else:\n",
    "        wrong = wrong + 1\n",
    "        \n",
    "        \n",
    "print(\"Percentage of testing data we got right \",((right/274)*100))\n",
    "print(\"Percentage of testing data we got wrong \",((wrong/274)*100))\n",
    "#print(wrong)"
   ]
  },
  {
   "cell_type": "code",
   "execution_count": null,
   "metadata": {},
   "outputs": [],
   "source": []
  },
  {
   "cell_type": "code",
   "execution_count": null,
   "metadata": {},
   "outputs": [],
   "source": []
  },
  {
   "cell_type": "code",
   "execution_count": 26,
   "metadata": {},
   "outputs": [
    {
     "name": "stdout",
     "output_type": "stream",
     "text": [
      "[[147   5]\n",
      " [  3 119]]\n"
     ]
    },
    {
     "data": {
      "text/plain": [
       "<function matplotlib.pyplot.show(*args, **kw)>"
      ]
     },
     "execution_count": 26,
     "metadata": {},
     "output_type": "execute_result"
    },
    {
     "data": {
      "image/png": "[encoded data removed]",
      "text/plain": [
       "<Figure size 432x288 with 2 Axes>"
      ]
     },
     "metadata": {
      "needs_background": "light"
     },
     "output_type": "display_data"
    }
   ],
   "source": [
    "y_pred = con(np.array(y_pred))\n",
    "y_test = con(np.array(y_test))\n",
    "labels = ['fake','real']\n",
    "cm = confusion_matrix(y_test, y_pred)\n",
    "print(cm)\n",
    "fig = pl.figure()\n",
    "ax = fig.add_subplot(111)\n",
    "cax = ax.matshow(cm)\n",
    "a = str(((right/274)*100))\n",
    "pl.title('Accuracy:' + a)\n",
    "fig.colorbar(cax)\n",
    "ax.set_xticklabels(['']+labels)\n",
    "ax.set_yticklabels(['']+labels)\n",
    "pl.xlabel('Predicted Labels')\n",
    "pl.ylabel('True Labels')\n",
    "pl.show"
   ]
  },
  {
   "cell_type": "code",
   "execution_count": null,
   "metadata": {},
   "outputs": [],
   "source": []
  }
 ],
 "metadata": {
  "kernelspec": {
   "display_name": "Python 3",
   "language": "python",
   "name": "python3"
  },
  "language_info": {
   "codemirror_mode": {
    "name": "ipython",
    "version": 3
   },
   "file_extension": ".py",
   "mimetype": "text/x-python",
   "name": "python",
   "nbconvert_exporter": "python",
   "pygments_lexer": "ipython3",
   "version": "3.7.4"
  }
 },
 "nbformat": 4,
 "nbformat_minor": 2
}
