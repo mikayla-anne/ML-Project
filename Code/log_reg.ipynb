{
 "cells": [
  {
   "cell_type": "code",
   "execution_count": 34,
   "metadata": {},
   "outputs": [],
   "source": [
    "import numpy as np\n",
    "import scipy as sp\n",
    "import math"
   ]
  },
  {
   "cell_type": "code",
   "execution_count": 35,
   "metadata": {},
   "outputs": [],
   "source": [
    "data_file = open('data_banknote_authentication.txt', 'r')\n",
    "data_string = data_file.read()\n",
    "data_strings = np.array(data_string.split('\\n'))\n",
    "x_data = []\n",
    "y_data = []\n",
    "data = []"
   ]
  },
  {
   "cell_type": "code",
   "execution_count": 36,
   "metadata": {},
   "outputs": [
    {
     "name": "stdout",
     "output_type": "stream",
     "text": [
      "['3.6216,8.6661,-2.8073,-0.44699,0' '4.5459,8.1674,-2.4586,-1.4621,0'\n",
      " '3.866,-2.6383,1.9242,0.10645,0' ... '-3.7503,-13.4586,17.5932,-2.7771,1'\n",
      " '-3.5637,-8.3827,12.393,-1.2823,1' '-2.5419,-0.65804,2.6842,1.1952,1']\n",
      "[['-2.5754' '-5.6574' '6.103' '0.65214' '1']\n",
      " ['-4.6338' '-12.7509' '16.7166' '-3.2168' '1']\n",
      " ['3.7635' '2.7811' '0.66119' '0.34179' '0']\n",
      " ...\n",
      " ['-0.49948' '1.7734' '-2.2469' '-0.68104' '1']\n",
      " ['4.5679' '3.1929' '-2.1055' '0.29653' '0']\n",
      " ['-0.89542' '2.0279' '-2.3652' '-1.2746' '1']]\n"
     ]
    }
   ],
   "source": [
    "print(data_strings)\n",
    "data_strings[0].split(',')\n",
    "for i in range(data_strings.shape[0]):\n",
    "    a = data_strings[i].split(',')\n",
    "    x_data.append(a[0:4])\n",
    "    y_data.append(a[4])\n",
    "    data.append(data_strings[i].split(','))\n",
    "    \n",
    "x_data = np.array(x_data)   \n",
    "y_data = np.array(y_data)\n",
    "data = np.array(data)\n",
    "np.random.shuffle(data)\n",
    "print(data)"
   ]
  },
  {
   "cell_type": "code",
   "execution_count": 37,
   "metadata": {},
   "outputs": [],
   "source": [
    "def con(a):\n",
    "    b = []\n",
    "    for i in range(len(a)):\n",
    "        b.append(float(a[i]))\n",
    "    return b\n"
   ]
  },
  {
   "cell_type": "code",
   "execution_count": 38,
   "metadata": {},
   "outputs": [],
   "source": [
    "def sigmoid(x):\n",
    "    return 1/(1+math.exp(-x))"
   ]
  },
  {
   "cell_type": "code",
   "execution_count": 39,
   "metadata": {},
   "outputs": [],
   "source": [
    "def f(x, θ): # Regression function\n",
    "    a = np.dot(x, θ)\n",
    "    return sigmoid(a) # linear regression using the dot product"
   ]
  },
  {
   "cell_type": "code",
   "execution_count": 40,
   "metadata": {},
   "outputs": [],
   "source": [
    "train_data = data[0:824] #training data, contains 60 percent of the data\n",
    "validation_data = data[824:1098] #validation data, contains 20 percent of the data\n",
    "test_data = data[1098:1373] #testing data, contains the remaining 20 percent of the code\n"
   ]
  },
  {
   "cell_type": "code",
   "execution_count": 41,
   "metadata": {},
   "outputs": [
    {
     "name": "stdout",
     "output_type": "stream",
     "text": [
      "Model Parameters:  [ 7.49783449 -7.2693402  -4.27123301 -5.12243993 -0.80798776]\n"
     ]
    }
   ],
   "source": [
    "α = 1e-2 # dlearning rate\n",
    "θ = np.ones(5) # initialize our parameters\n",
    "θ_old = np.zeros(5) # initialize the old parameter values (it's different from the parameter values so we can enter the while loop below)\n",
    "while np.sqrt(np.sum(np.power(θ - θ_old, 2))) > 0.001: # while euclidean norm > 0.001 (so ϵ = 0.001) \n",
    "    θ_old = θ # set old parameter values to parameter values before they are updated\n",
    "    for i in range(train_data.shape[0]): # loop over each row of the design matrix (each data point)\n",
    "        a = train_data[i]\n",
    "        a = list(a[0:4])\n",
    "        a.insert(0,1)\n",
    "        a = np.array(a)\n",
    "        a = con(a)\n",
    "        θ = θ + α*(  (float(train_data[i][4])-(f(a, θ) )) * np.array(a)) # update the parameters using the update rule\n",
    "        #print(θ)\n",
    "                   \n",
    "\n",
    "print(\"Model Parameters: \", θ) # Print model parameters after convergence"
   ]
  },
  {
   "cell_type": "code",
   "execution_count": 42,
   "metadata": {},
   "outputs": [
    {
     "name": "stdout",
     "output_type": "stream",
     "text": [
      "Model Parameters:  [ 7.49783449 -7.2693402  -4.27123301 -5.12243993 -0.80798776]\n"
     ]
    }
   ],
   "source": [
    "\n",
    "while np.sqrt(np.sum(np.power(θ - θ_old, 2))) > 0.001: # while euclidean norm > 0.1 (so ϵ = 0.001) \n",
    "    θ_old = θ # set old parameter values to parameter values before they are updated\n",
    "    for i in range(validation_data.shape[0]): # loop over each row of the design matrix (each data point)\n",
    "        a = validation_data[i]\n",
    "        a = list(a[0:4])\n",
    "        a.insert(0,1)\n",
    "        a = np.array(a)\n",
    "        a = con(a)\n",
    "        θ = θ + α*(  (float(validation_data[i][4])-(f(a, θ) )) * np.array(a)) # update the parameters using the update rule\n",
    "        #print(θ)\n",
    "                   \n",
    "\n",
    "print(\"Model Parameters: \", θ) # Print model parameters after convergence"
   ]
  },
  {
   "cell_type": "code",
   "execution_count": 43,
   "metadata": {},
   "outputs": [],
   "source": [
    "def check(p):\n",
    "    if p>=0.5:\n",
    "        return 1\n",
    "    else:\n",
    "        return 0"
   ]
  },
  {
   "cell_type": "code",
   "execution_count": 44,
   "metadata": {},
   "outputs": [
    {
     "name": "stdout",
     "output_type": "stream",
     "text": [
      "Percentage of testing data we got right  99.27007299270073\n",
      "Percentage of testing data we got wrong  0.7299270072992701\n",
      "2\n"
     ]
    }
   ],
   "source": [
    "right = 0\n",
    "wrong = 0\n",
    "for i in range(test_data.shape[0]):\n",
    "    #print(uiii[i][4])\n",
    "    b = list(con(test_data[i][0:4]))\n",
    "    #print(b)\n",
    "    b.insert(0,1)\n",
    "    #print(check(f(b,θ)))\n",
    "    if check(f(b,θ)) == int(test_data[i][4]):\n",
    "        right = right + 1\n",
    "    else:\n",
    "        wrong = wrong + 1\n",
    "        \n",
    "        \n",
    "print(\"Percentage of testing data we got right \",((right/274)*100))\n",
    "print(\"Percentage of testing data we got wrong \",((wrong/274)*100))\n",
    "#print(wrong)"
   ]
  },
  {
   "cell_type": "code",
   "execution_count": null,
   "metadata": {},
   "outputs": [],
   "source": []
  },
  {
   "cell_type": "code",
   "execution_count": 45,
   "metadata": {},
   "outputs": [
    {
     "name": "stdout",
     "output_type": "stream",
     "text": [
      "[[147   2]\n",
      " [  0 125]]\n",
      "The top left coner is the amount of fake bills we predicted as fake\n",
      "The top right coner is the amount of fake bills we predicted as real\n",
      "The bottom right coner is the amount of real bills we predicted as real\n",
      "The bottom left coner is the amount of real bills we predicted as fake\n",
      "Therefore our accuracy is 99.27007299270073\n"
     ]
    }
   ],
   "source": [
    "confusion_matrix = np.matrix([[0,0],[0,0]])\n",
    "for i in range(test_data.shape[0]):\n",
    "    b = list(con(test_data[i][0:4]))\n",
    "    b.insert(0,1)\n",
    "    if check(f(b,θ)) == int(test_data[i][4]):\n",
    "        if check(f(b,θ))== 0:\n",
    "            confusion_matrix[0,0] = confusion_matrix[0,0]+1\n",
    "        else:\n",
    "            confusion_matrix[1,1] = confusion_matrix[1,1]+1\n",
    "    else:\n",
    "        if check(f(b,θ)) == 1:\n",
    "            confusion_matrix[0,1] = confusion_matrix[0,1]+1\n",
    "        else:\n",
    "            confusion_matrix[1,0] = confusion_matrix[1,0]+1\n",
    "            \n",
    "print(confusion_matrix)\n",
    "print(\"The top left coner is the amount of fake bills we predicted as fake\")\n",
    "print(\"The top right coner is the amount of fake bills we predicted as real\")\n",
    "print(\"The bottom right coner is the amount of real bills we predicted as real\")\n",
    "print(\"The bottom left coner is the amount of real bills we predicted as fake\")\n",
    "print(\"Therefore our accuracy is\", ((confusion_matrix[0,0]+confusion_matrix[1,1])/274)*100)"
   ]
  },
  {
   "cell_type": "code",
   "execution_count": null,
   "metadata": {},
   "outputs": [],
   "source": []
  },
  {
   "cell_type": "code",
   "execution_count": null,
   "metadata": {},
   "outputs": [],
   "source": []
  }
 ],
 "metadata": {
  "kernelspec": {
   "display_name": "Python 3",
   "language": "python",
   "name": "python3"
  },
  "language_info": {
   "codemirror_mode": {
    "name": "ipython",
    "version": 3
   },
   "file_extension": ".py",
   "mimetype": "text/x-python",
   "name": "python",
   "nbconvert_exporter": "python",
   "pygments_lexer": "ipython3",
   "version": "3.7.4"
  }
 },
 "nbformat": 4,
 "nbformat_minor": 2
}
