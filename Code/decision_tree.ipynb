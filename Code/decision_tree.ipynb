{
 "cells": [
  {
   "cell_type": "markdown",
   "metadata": {},
   "source": [
    "# Decision Tree"
   ]
  },
  {
   "cell_type": "markdown",
   "metadata": {},
   "source": [
    "#### Imports"
   ]
  },
  {
   "cell_type": "code",
   "execution_count": 192,
   "metadata": {},
   "outputs": [],
   "source": [
    "import numpy as np\n",
    "import pandas as pd\n",
    "from collections import Counter\n",
    "from sklearn.model_selection import train_test_split\n",
    "from sklearn import metrics \n",
    "import matplotlib.pyplot as plt\n",
    "import seaborn as sns; sns.set(color_codes=True)"
   ]
  },
  {
   "cell_type": "markdown",
   "metadata": {},
   "source": [
    "#### Decision Tree classes and functions"
   ]
  },
  {
   "cell_type": "code",
   "execution_count": 63,
   "metadata": {},
   "outputs": [],
   "source": [
    "def entropy(data):\n",
    "    unique , counts = np.unique(data, return_counts = True)\n",
    "    px = counts / len(data)\n",
    "    return -np.sum(px * np.log2(px))"
   ]
  },
  {
   "cell_type": "code",
   "execution_count": 158,
   "metadata": {},
   "outputs": [],
   "source": [
    "class Node:\n",
    "\n",
    "    def __init__(self, feature=None, threshold=None, left_node=None, right_node=None, *, output_class=None):\n",
    "        self.feature = feature\n",
    "        self.threshold = threshold\n",
    "        self.left_node = left_node\n",
    "        self.right_node = right_node\n",
    "        self.output_class = output_class\n",
    "\n",
    "    def is_leaf(self): # checks is node is a leaf\n",
    "        return self.output_class != None\n",
    "    \n",
    "#   def print_node(self):\n",
    "#       print(\"feature:\", self.feature)\n",
    "#       if self.left_node != None:\n",
    "#           self.print_node()\n",
    "#       if self.right_node != None:\n",
    "#           self.print_node()\n",
    "#       if self.output_class != None:\n",
    "#           print(\"class: \", self.output_class)"
   ]
  },
  {
   "cell_type": "code",
   "execution_count": 251,
   "metadata": {},
   "outputs": [],
   "source": [
    "class DecisionTree:\n",
    "\n",
    "    def __init__(self, minsplit=2, max_depth=100):\n",
    "        self.minsplit = minsplit\n",
    "        self.max_depth = max_depth\n",
    "        self.n_feats = None\n",
    "        self.root = None\n",
    "\n",
    "    def fit(self, X, y):\n",
    "        self.n_feats = X.shape[1]# if not self.n_feats else min(self.n_feats, X.shape[1])\n",
    "        self.root = self.grow_tree(X, y)\n",
    "\n",
    "    def predict(self, X):\n",
    "        #predict by traversing the tree until a leaf node is reached\n",
    "        return np.array([self.traverse_tree(x, self.root) for x in X])\n",
    "\n",
    "    def grow_tree(self, X, y, depth=0):\n",
    "        n_samples, n_features = X.shape\n",
    "        n_labels = len(np.unique(y))\n",
    "\n",
    "        #recursion stopping criteria\n",
    "        if (depth >= self.max_depth\n",
    "                or n_labels == 1\n",
    "                or n_samples < self.minsplit):\n",
    "            leaf_value = self.most_common_class(y)\n",
    "            return Node(output_class=leaf_value) # leaf created\n",
    "\n",
    "        feat_inxs = np.random.choice(n_features, self.n_feats, replace=False)\n",
    "\n",
    "        # select the best split according to information gain\n",
    "        best_feat, best_thresh = self.best_criteria(X, y, feat_inxs)\n",
    "        \n",
    "        # grow the children that result from the split\n",
    "        left_inxs, right_inxs = self.split(X[:, best_feat], best_thresh)\n",
    "        left = self.grow_tree(X[left_inxs, :], y[left_inxs], depth+1) # recursion\n",
    "        right = self.grow_tree(X[right_inxs, :], y[right_inxs], depth+1) # recursion\n",
    "        return Node(best_feat, best_thresh, left, right) # new node created\n",
    "\n",
    "    def best_criteria(self, X, y, feat_inxs):\n",
    "        best_gain = -1\n",
    "        split_inx, split_thresh = None, None\n",
    "        for feat_inx in feat_inxs:\n",
    "            X_column = X[:, feat_inx]\n",
    "            thresholds = np.unique(X_column)\n",
    "            for threshold in thresholds:\n",
    "                gain = self.info_gain(y, X_column, threshold) # calc info_gain\n",
    "\n",
    "                if gain > best_gain: # check if new gain if better than current gain\n",
    "                    best_gain = gain\n",
    "                    split_inx = feat_inx\n",
    "                    split_thresh = threshold\n",
    "\n",
    "        return split_inx, split_thresh\n",
    "\n",
    "    def info_gain(self, y, X_column, split_thresh):\n",
    "        # calc parent entropy\n",
    "        parent_entropy = entropy(y)\n",
    "\n",
    "        # generate split\n",
    "        left_inxs, right_inxs = self.split(X_column, split_thresh)\n",
    "\n",
    "        if len(left_inxs) == 0 or len(right_inxs) == 0:\n",
    "            return 0\n",
    "\n",
    "        # compute the weighted avg. of the loss for the children\n",
    "        num = len(y)\n",
    "        num_l, num_r = len(left_inxs), len(right_inxs)\n",
    "        entropy_l, entropy_r = entropy(y[left_inxs]), entropy(y[right_inxs]) # calc entropy of each child\n",
    "        child_entropy = (num_l / num) * entropy_l + (num_r / num) * entropy_r \n",
    "\n",
    "        gain = parent_entropy - child_entropy\n",
    "        return gain\n",
    "\n",
    "    def split(self, X_column, split_thresh):\n",
    "        # following Binary Search Tree the left node contains values less than or equal to the threshold of the feature \n",
    "        # and the right node contains values greater than the threshold of the feature\n",
    "        left_inxs = np.argwhere(X_column <= split_thresh).flatten() # flatten to create a vector\n",
    "        right_inxs = np.argwhere(X_column > split_thresh).flatten()\n",
    "        return left_inxs, right_inxs\n",
    "\n",
    "    def traverse_tree(self, x, node):        \n",
    "        #recursion stopping criteria\n",
    "        if node.is_leaf():\n",
    "            return node.output_class\n",
    "\n",
    "        if x[node.feature] <= node.threshold: # if value for this feature is less than threshold for this feature move left\n",
    "            return self.traverse_tree(x, node.left_node)\n",
    "        return self.traverse_tree(x, node.right_node) # else move right\n",
    "\n",
    "    def most_common_class(self, y):\n",
    "        cls , count = np.unique(y, return_counts = True)\n",
    "        mx = np.argmax(count)\n",
    "        return cls[mx]\n"
   ]
  },
  {
   "cell_type": "markdown",
   "metadata": {},
   "source": [
    "#### Apply to dataset"
   ]
  },
  {
   "cell_type": "code",
   "execution_count": 255,
   "metadata": {},
   "outputs": [],
   "source": [
    "dataset = pd.read_csv(\"../Dataset/raw-banknote-data.csv\",sep = \";\") # read in data\n",
    "dataset.head()\n",
    "\n",
    "X = dataset.drop(columns = [\"class\"]) # input array\n",
    "y = dataset.drop(columns = [\"variance of image\",\"skewness of image\", \"curtosis of image\" , \"entropy of image\"]) # target array\n",
    "\n",
    "X_train_v, X_test, y_train_v, y_test = train_test_split(X, y, test_size=0.2) # split test data\n",
    "X_train, X_validation, y_train, y_validation = train_test_split(X_train_v, y_train_v, test_size=0.25) # split taining and validation data\n"
   ]
  },
  {
   "cell_type": "code",
   "execution_count": 253,
   "metadata": {},
   "outputs": [
    {
     "name": "stdout",
     "output_type": "stream",
     "text": [
      "Validation Accuracy: 0.9527272727272728\n"
     ]
    }
   ],
   "source": [
    "tree = DecisionTree(max_depth=3) \n",
    "tree.fit(X_train.to_numpy(), y_train.to_numpy()) # fit data to tree\n",
    "    \n",
    "y_val = tree.predict(X_validation.to_numpy()) # predict class given validation array\n",
    "print(\"Validation Accuracy:\",metrics.accuracy_score(y_validation, y_val)) # calc accuracy of validation prediction"
   ]
  },
  {
   "cell_type": "code",
   "execution_count": 247,
   "metadata": {},
   "outputs": [
    {
     "name": "stdout",
     "output_type": "stream",
     "text": [
      "Accuracy: 0.9454545454545454\n"
     ]
    },
    {
     "data": {
      "image/png": "[encoded data removed]",
      "text/plain": [
       "<Figure size 216x216 with 2 Axes>"
      ]
     },
     "metadata": {},
     "output_type": "display_data"
    }
   ],
   "source": [
    "y_pred = tree.predict(X_test.to_numpy()) # using same tree predict test class\n",
    "\n",
    "print(\"Accuracy:\",metrics.accuracy_score(y_test, y_pred)) # calc accuracy of test prediction\n",
    "\n",
    "cm = metrics.confusion_matrix(y_test, y_pred) # create confusion matrix\n",
    "\n",
    "#display confusion matrix\n",
    "sns.set(font_scale=1.1)\n",
    "plt.figure(figsize=(3,3))\n",
    "sns.heatmap(cm, annot=True, fmt=\".3f\", linewidths=.5, square = True, cmap = 'Blues_r');\n",
    "plt.ylabel('Actual label');\n",
    "plt.xlabel('Predicted label');\n",
    "\n",
    "#print(metrics.classification_report(y_test, y_pred))"
   ]
  },
  {
   "cell_type": "code",
   "execution_count": null,
   "metadata": {},
   "outputs": [],
   "source": []
  }
 ],
 "metadata": {
  "kernelspec": {
   "display_name": "Python 3",
   "language": "python",
   "name": "python3"
  },
  "language_info": {
   "codemirror_mode": {
    "name": "ipython",
    "version": 3
   },
   "file_extension": ".py",
   "mimetype": "text/x-python",
   "name": "python",
   "nbconvert_exporter": "python",
   "pygments_lexer": "ipython3",
   "version": "3.7.6"
  }
 },
 "nbformat": 4,
 "nbformat_minor": 4
}
