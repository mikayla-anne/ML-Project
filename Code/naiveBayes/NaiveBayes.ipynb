{
 "cells": [
  {
   "cell_type": "code",
   "execution_count": 1,
   "metadata": {},
   "outputs": [],
   "source": [
    "import numpy as np\n",
    "from sklearn.model_selection import train_test_split\n",
    "from sklearn import datasets\n",
    "import matplotlib.pyplot as plt\n",
    "import csv"
   ]
  },
  {
   "cell_type": "code",
   "execution_count": 2,
   "metadata": {},
   "outputs": [],
   "source": [
    "data = np.genfromtxt(\"data_banknote_authentication.csv\", delimiter=\";\", dtype=np.float32)"
   ]
  },
  {
   "cell_type": "code",
   "execution_count": 3,
   "metadata": {},
   "outputs": [],
   "source": [
    "n_samples, n_features = data.shape\n",
    "n_features -= 1\n",
    "X = data[:, 0:n_features]\n",
    "y = data[:, n_features]"
   ]
  },
  {
   "cell_type": "code",
   "execution_count": 4,
   "metadata": {},
   "outputs": [],
   "source": [
    "class NaiveBayes:\n",
    "\n",
    "    def learn(self, X, y):\n",
    "       \n",
    "        self._classes = np.unique(y)\n",
    "        num_classes = len(self._classes)\n",
    "\n",
    "        # calculate mean, var, and prior for both the counterfiet and real money classes\n",
    "        self.Mean = np.zeros((num_classes, n_features), dtype=np.float32)\n",
    "        self.Variance = np.zeros((num_classes, n_features), dtype=np.float32)\n",
    "        self.Prior_Probabilty =  np.zeros(num_classes, dtype=np.float)\n",
    "\n",
    "        for index, Class in enumerate(self._classes):\n",
    "            X_Class= X[y==Class]\n",
    "            self.Mean[index, :] = X_Class.mean(axis=0)\n",
    "            self.Variance[index, :] = X_Class.var(axis=0)\n",
    "            self.Prior_Probabilty[index] = X_Class.shape[0] / float(n_samples)\n",
    "\n",
    "    def predict(self, X):\n",
    "        y_pred = [self._predict(x) for x in X]\n",
    "        return np.array(y_pred)\n",
    "\n",
    "    def _predict(self, x):\n",
    "        posteriors = []\n",
    "\n",
    "        # calculate posterior probability for both the counterfiet and real money\n",
    "        for index, Class in enumerate(self._classes):\n",
    "            prior = np.log(self.Prior_Probabilty[index])\n",
    "            posterior = np.sum(np.log(self.Probability_Density_Function(index, x)))\n",
    "            posterior = prior + posterior\n",
    "            posteriors.append(posterior)\n",
    "            \n",
    "        # return class with highest posterior probability\n",
    "        return self._classes[np.argmax(posteriors)]\n",
    "            \n",
    "\n",
    "    def Probability_Density_Function(self, class_index, x):\n",
    "        mean = self.Mean[class_index]\n",
    "        var = self.Variance[class_index]\n",
    "        numerator = np.exp(- (x-mean)**2 / (2 * var))\n",
    "        denominator = np.sqrt(2 * np.pi * var)\n",
    "        return numerator / denominator"
   ]
  },
  {
   "cell_type": "code",
   "execution_count": 5,
   "metadata": {},
   "outputs": [],
   "source": [
    "def accuracy(y_true, y_pred):\n",
    "    accuracy = np.sum(y_true == y_pred) / len(y_true)\n",
    "    return accuracy"
   ]
  },
  {
   "cell_type": "code",
   "execution_count": 6,
   "metadata": {},
   "outputs": [
    {
     "name": "stdout",
     "output_type": "stream",
     "text": [
      "Naive Bayes classification accuracy 0.8472727272727273\n"
     ]
    }
   ],
   "source": [
    "X_train, X_test, y_train, y_test = train_test_split(X, y, test_size=0.2, random_state=123)\n",
    "\n",
    "nb = NaiveBayes()\n",
    "nb.learn(X_train, y_train)\n",
    "predictions = nb.predict(X_test)\n",
    "\n",
    "print(\"Naive Bayes classification accuracy\", accuracy(y_test, predictions))"
   ]
  }
 ],
 "metadata": {
  "kernelspec": {
   "display_name": "Python 3",
   "language": "python",
   "name": "python3"
  },
  "language_info": {
   "codemirror_mode": {
    "name": "ipython",
    "version": 3
   },
   "file_extension": ".py",
   "mimetype": "text/x-python",
   "name": "python",
   "nbconvert_exporter": "python",
   "pygments_lexer": "ipython3",
   "version": "3.7.6"
  }
 },
 "nbformat": 4,
 "nbformat_minor": 4
}
